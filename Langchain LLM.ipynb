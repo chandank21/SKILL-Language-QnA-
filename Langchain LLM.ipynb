{
 "cells": [
  {
   "cell_type": "code",
   "execution_count": 1,
   "id": "5ebf746e",
   "metadata": {},
   "outputs": [],
   "source": [
    "from langchain.llms import GPT4All\n",
    "from PyPDF2 import PdfReader\n",
    "from langchain.text_splitter import CharacterTextSplitter\n",
    "from langchain.embeddings import HuggingFaceEmbeddings\n",
    "from langchain.embeddings.openai import OpenAIEmbeddings\n",
    "from langchain.vectorstores import FAISS\n",
    "from langchain.chains import RetrievalQA\n",
    "import gradio as gr"
   ]
  },
  {
   "cell_type": "raw",
   "id": "7a52f0aa",
   "metadata": {},
   "source": [
    "# create a prompt template where it contains some initial instructions\n",
    "# here we say our LLM to think step by step and give the answer\n",
    "\n",
    "template = \"\"\"\n",
    "Let's think step by step of the question: {question}\n",
    "Based on all the thought the final answer becomes:\n",
    "\"\"\"\n",
    "prompt = PromptTemplate(template=template, input_variables=[\"question\"])"
   ]
  },
  {
   "cell_type": "code",
   "execution_count": 2,
   "id": "4d297ecf",
   "metadata": {},
   "outputs": [],
   "source": [
    "model_weights = (r\"C:\\Users\\chakumar\\Downloads\\wizardlm-13b-v1.1-superhot-8k.ggmlv3.q4_0.bin\")"
   ]
  },
  {
   "cell_type": "code",
   "execution_count": 3,
   "id": "561d0f08",
   "metadata": {},
   "outputs": [
    {
     "name": "stdout",
     "output_type": "stream",
     "text": [
      "Found model file at  C:\\\\Users\\\\chakumar\\\\Downloads\\\\wizardlm-13b-v1.1-superhot-8k.ggmlv3.q4_0.bin\n"
     ]
    }
   ],
   "source": [
    "# initialize the LLM and make chain it with the prompts\n",
    "Myllm = GPT4All(model = model_weights, backend=\"llama\",)\n",
    "#llm_chain = LLMChain(prompt=prompt, llm = Myllm, verbose = True)"
   ]
  },
  {
   "cell_type": "code",
   "execution_count": 4,
   "id": "80047b29",
   "metadata": {},
   "outputs": [],
   "source": [
    "doc_reader = PdfReader(r\"C:\\Users\\chakumar\\Documents\\Documents\\Intro_to_skill_prog.pdf\")\n",
    "raw_text = ''\n",
    "for i, page in enumerate(doc_reader.pages):\n",
    "    text = page.extract_text()\n",
    "    if text:\n",
    "        raw_text += text"
   ]
  },
  {
   "cell_type": "code",
   "execution_count": 5,
   "id": "ff18cd64",
   "metadata": {},
   "outputs": [],
   "source": [
    "# Splitting up the text into smaller chunks for indexing\n",
    "text_splitter = CharacterTextSplitter(        \n",
    "    separator = \"\\n\",\n",
    "    chunk_size = 1000,\n",
    "    chunk_overlap  = 200, #striding over the text\n",
    "    length_function = len,\n",
    ")\n",
    "texts = text_splitter.split_text(raw_text)"
   ]
  },
  {
   "cell_type": "code",
   "execution_count": 6,
   "id": "e1ec8b7e",
   "metadata": {},
   "outputs": [],
   "source": [
    "embeddings = HuggingFaceEmbeddings(model_name = \"sentence-transformers/all-MiniLM-L6-v2\")\n",
    "docsearch = FAISS.from_texts(texts, embeddings)"
   ]
  },
  {
   "cell_type": "code",
   "execution_count": 7,
   "id": "8dd48c12",
   "metadata": {},
   "outputs": [],
   "source": [
    "# set up FAISS as a generic retriever \n",
    "myretriever = docsearch.as_retriever(search_type=\"similarity\", search_kwargs={\"k\":4})\n",
    "\n",
    "# create the chain to answer questions \n",
    "rqa_chain = RetrievalQA.from_chain_type(llm = Myllm, \n",
    "                                  chain_type = \"stuff\", \n",
    "                                  retriever = myretriever, \n",
    "                                  return_source_documents = True)"
   ]
  },
  {
   "cell_type": "code",
   "execution_count": 8,
   "id": "943fbaef",
   "metadata": {},
   "outputs": [],
   "source": [
    "def inference(question):\n",
    "    output = rqa_chain(question)\n",
    "    return output['result']"
   ]
  },
  {
   "cell_type": "code",
   "execution_count": 18,
   "id": "9a9969e5",
   "metadata": {},
   "outputs": [
    {
     "name": "stdout",
     "output_type": "stream",
     "text": [
      "Closing server running on port: 7862\n",
      "Closing server running on port: 7861\n",
      "Closing server running on port: 7860\n",
      "Running on local URL:  http://127.0.0.1:7861\n",
      "\n",
      "Could not create share link. Please check your internet connection or our status page: https://status.gradio.app.\n"
     ]
    },
    {
     "data": {
      "text/html": [
       "<div><iframe src=\"http://127.0.0.1:7861/\" width=\"100%\" height=\"500\" allow=\"autoplay; camera; microphone; clipboard-read; clipboard-write;\" frameborder=\"0\" allowfullscreen></iframe></div>"
      ],
      "text/plain": [
       "<IPython.core.display.HTML object>"
      ]
     },
     "metadata": {},
     "output_type": "display_data"
    },
    {
     "data": {
      "text/plain": []
     },
     "execution_count": 18,
     "metadata": {},
     "output_type": "execute_result"
    }
   ],
   "source": [
    "def format_chat_prompt(query, chat_history):\n",
    "    prompt = \"\"\n",
    "    for turn in chat_history:\n",
    "        user_query, bot_answer = turn\n",
    "        prompt = f\"{prompt}\\nUser: {user_query}\\nAssistant: {bot_answer}\"\n",
    "    prompt = f\"{prompt}\\nUser: {query}\\nAssistant:\"\n",
    "    return prompt\n",
    "\n",
    "def respond(query, chat_history):\n",
    "    formated_query = format_chat_prompt(query, chat_history)\n",
    "    answer = inference(formated_query)\n",
    "    chat_history.append((query, answer))\n",
    "    return \"\", chat_history\n",
    "    \n",
    "with gr.Blocks() as myApp:\n",
    "    chatbot = gr.Chatbot(height = 240)\n",
    "    question = gr.Textbox(label = \"Question\")\n",
    "    ask_btn = gr.Button(\"Ask?\")\n",
    "    clear = gr.ClearButton(components = [question, chatbot], value = \"Clear console\")\n",
    "\n",
    "    ask_btn.click(respond, inputs=[question, chatbot], outputs=[question, chatbot])\n",
    "    question.submit(respond, inputs=[question, chatbot], outputs=[question, chatbot])\n",
    "    \n",
    "gr.close_all()\n",
    "myApp.launch(share=True)"
   ]
  },
  {
   "cell_type": "code",
   "execution_count": null,
   "id": "00780576",
   "metadata": {},
   "outputs": [],
   "source": []
  }
 ],
 "metadata": {
  "kernelspec": {
   "display_name": "Python 3 (ipykernel)",
   "language": "python",
   "name": "python3"
  },
  "language_info": {
   "codemirror_mode": {
    "name": "ipython",
    "version": 3
   },
   "file_extension": ".py",
   "mimetype": "text/x-python",
   "name": "python",
   "nbconvert_exporter": "python",
   "pygments_lexer": "ipython3",
   "version": "3.10.9"
  }
 },
 "nbformat": 4,
 "nbformat_minor": 5
}
